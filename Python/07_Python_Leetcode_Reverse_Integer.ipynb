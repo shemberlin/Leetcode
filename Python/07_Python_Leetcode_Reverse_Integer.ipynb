{
  "nbformat": 4,
  "nbformat_minor": 0,
  "metadata": {
    "colab": {
      "name": "07_Python_Leetcode_Reverse Integer.ipynb",
      "provenance": [],
      "collapsed_sections": []
    },
    "kernelspec": {
      "name": "python3",
      "display_name": "Python 3"
    }
  },
  "cells": [
    {
      "cell_type": "code",
      "metadata": {
        "id": "0TjF3x3mOSx8"
      },
      "source": [
        "class Solution:\r\n",
        "    def reverse(self, x: int) -> int:\r\n",
        "        #-214783648~214783647\r\n",
        "        num=0\r\n",
        "        \r\n",
        "        #return the absolute value of a number\r\n",
        "        a=abs(x)\r\n",
        "        \r\n",
        "        while(a != 0):\r\n",
        "            temp = a % 10\r\n",
        "            num = num * 10 + temp\r\n",
        "            print(\"a\",a)\r\n",
        "            print(\"temp\",temp)\r\n",
        "            print(\"num\",num)\r\n",
        "            a=int(a//10)\r\n",
        "            \r\n",
        "        if x>0 and num<2**31:\r\n",
        "            return num\r\n",
        "        elif x<0 and num<=2**31:\r\n",
        "            return -num\r\n",
        "        else:\r\n",
        "            return 0\r\n",
        "            \r\n",
        "            # 123\r\n",
        "            # a=123\r\n",
        "            # num=0\r\n",
        "            # First iteration\r\n",
        "            # a=12\r\n",
        "            # num=3\r\n",
        "            # Second iteration\r\n",
        "            # a=1\r\n",
        "            # num=32\r\n",
        "            # Third iteration\r\n",
        "            # a=0\r\n",
        "            # num=321"
      ],
      "execution_count": null,
      "outputs": []
    }
  ]
}