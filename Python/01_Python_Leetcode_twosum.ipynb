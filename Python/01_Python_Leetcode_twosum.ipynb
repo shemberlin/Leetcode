{
  "nbformat": 4,
  "nbformat_minor": 0,
  "metadata": {
    "colab": {
      "name": "01_Python_Leetcode_twosum.ipynb",
      "provenance": [],
      "collapsed_sections": []
    },
    "kernelspec": {
      "name": "python3",
      "display_name": "Python 3"
    }
  },
  "cells": [
    {
      "cell_type": "markdown",
      "metadata": {
        "id": "65rvE2RM-T_u"
      },
      "source": [
        "Python Hash table\r\n",
        "時間複雜度：O(n)\r\n"
      ]
    },
    {
      "cell_type": "code",
      "metadata": {
        "colab": {
          "base_uri": "https://localhost:8080/"
        },
        "id": "kAOykrGTz22T",
        "outputId": "4e41ce70-c4fe-4525-ce99-1347a1a93720"
      },
      "source": [
        "\r\n",
        "class Solution:\r\n",
        "    def twoSum(self, nums, target):\r\n",
        "        dict = {}\r\n",
        "        for i in range(len(nums)):\r\n",
        "            if target-nums[i] in dict:\r\n",
        "                return [dict[target-nums[i]], i]\r\n",
        "            else:\r\n",
        "                dict[nums[i]] = i\r\n",
        "nums=[2,7,11,15]\r\n",
        "target=18\r\n",
        "f=Solution()\r\n",
        "print(f.twoSum(nums,target))"
      ],
      "execution_count": null,
      "outputs": [
        {
          "output_type": "stream",
          "text": [
            "[1, 2]\n"
          ],
          "name": "stdout"
        }
      ]
    },
    {
      "cell_type": "markdown",
      "metadata": {
        "id": "LG4loKUrERZB"
      },
      "source": [
        "\r\n",
        "你如果用class寫\r\n",
        "要先建立這個class 的 instance\r\n",
        "再用這個instance去呼叫 class function"
      ]
    },
    {
      "cell_type": "code",
      "metadata": {
        "id": "KM0ch-Ow_3Pk"
      },
      "source": [
        "dict={}\r\n",
        "\r\n",
        "dict[2]=0\r\n",
        "dict[7]=1\r\n",
        "dict[11]=2\r\n",
        "dict[15]=3"
      ],
      "execution_count": null,
      "outputs": []
    },
    {
      "cell_type": "code",
      "metadata": {
        "id": "Ej8Pj3rPI8s8",
        "colab": {
          "base_uri": "https://localhost:8080/"
        },
        "outputId": "7606585c-060d-4677-b722-687327ea9625"
      },
      "source": [
        "dict"
      ],
      "execution_count": null,
      "outputs": [
        {
          "output_type": "execute_result",
          "data": {
            "text/plain": [
              "{2: 0, 7: 1, 11: 2, 15: 3}"
            ]
          },
          "metadata": {
            "tags": []
          },
          "execution_count": 67
        }
      ]
    },
    {
      "cell_type": "markdown",
      "metadata": {
        "id": "Utnq_Mnz86ZK"
      },
      "source": [
        "時間複雜度為O（n2），窮舉法\r\n"
      ]
    },
    {
      "cell_type": "code",
      "metadata": {
        "id": "Jv0W0tsy9tB9"
      },
      "source": [
        "class Solution:\r\n",
        "    def twoSum(self, nums: List[int], target: int) -> List[int]:\r\n",
        "      index = []\r\n",
        "      for i in range(len(nums)):\r\n",
        "          for j in range(i+1,len(nums)):\r\n",
        "              if nums[i] + nums[j] == target:\r\n",
        "                  index.append(i)\r\n",
        "                  index.append(j)\r\n",
        "                  return index"
      ],
      "execution_count": null,
      "outputs": []
    },
    {
      "cell_type": "code",
      "metadata": {
        "id": "BggDiGSh9s9P"
      },
      "source": [
        ""
      ],
      "execution_count": null,
      "outputs": []
    }
  ]
}